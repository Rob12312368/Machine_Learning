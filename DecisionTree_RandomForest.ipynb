{
  "nbformat": 4,
  "nbformat_minor": 0,
  "metadata": {
    "colab": {
      "provenance": [],
      "authorship_tag": "ABX9TyOp1gdLf0qKx19A9q2nu+sY",
      "include_colab_link": true
    },
    "kernelspec": {
      "name": "python3",
      "display_name": "Python 3"
    },
    "language_info": {
      "name": "python"
    }
  },
  "cells": [
    {
      "cell_type": "markdown",
      "metadata": {
        "id": "view-in-github",
        "colab_type": "text"
      },
      "source": [
        "<a href=\"https://colab.research.google.com/github/Rob12312368/Machine_Learning/blob/main/DecisionTree_RandomForest.ipynb\" target=\"_parent\"><img src=\"https://colab.research.google.com/assets/colab-badge.svg\" alt=\"Open In Colab\"/></a>"
      ]
    },
    {
      "cell_type": "code",
      "source": [
        "import pandas as pd\n",
        "import numpy as np\n",
        "from collections import deque\n",
        "import time\n",
        "import sys\n",
        "import warnings\n",
        "from scipy.stats import chi2\n",
        "#from sklearn.metrics import mutual_info_score\n",
        "from sklearn.metrics import accuracy_score\n",
        "from sklearn.model_selection import train_test_split\n",
        "class Node:\n",
        "    def __init__(self,df):\n",
        "        self.criteria = None\n",
        "        self.df = df\n",
        "        self.left = None\n",
        "        self.right = None\n",
        "\n",
        "def entropy(df, col):\n",
        "    zerop = df[df[col] == 0].shape[0] / df.shape[0]\n",
        "    onep = df[df[col] == 1].shape[0] / df.shape[0]\n",
        "    if zerop == 0 and onep == 0:\n",
        "        return 0\n",
        "    elif zerop == 0:\n",
        "        return onep * np.log2(1/onep)\n",
        "    elif onep == 0:\n",
        "        return zerop * np.log2(1/zerop)\n",
        "    return zerop * np.log2(1/zerop) + onep * np.log2(1/onep)\n",
        "def mutual_info(df,col,y):\n",
        "\n",
        "    hx = entropy(df, col)\n",
        "\n",
        "    hxy = 0\n",
        "    for i in range(2):\n",
        "        for j in range(2):\n",
        "            #print(df['Sex'] == i & df['Survived'] == j)\n",
        "            p = df[(df[col] == i) & (df[y] == j)].shape[0] / df.shape[0]\n",
        "            if p == 0:\n",
        "                continue\n",
        "            log = np.log2(df[df[y] == j].shape[0]/df.shape[0]/p)\n",
        "            #print(p, log)\n",
        "            hxy += p * log\n",
        "    return hx - hxy\n",
        "def best_col(df, x, y):\n",
        "    biggest = 0\n",
        "    best = ''\n",
        "    for col in x:\n",
        "        if col != y:\n",
        "            tmp = mutual_info(df,col,y)\n",
        "            if tmp > biggest:\n",
        "                biggest = tmp\n",
        "                best = col\n",
        "    return (biggest, best)\n",
        "\n",
        "def decision_tree(node, x, threshold):\n",
        "    if x == ['Survived'] or node.df.shape[0] < threshold:\n",
        "        return\n",
        "    biggest, best = best_col(node.df, x, 'Survived')\n",
        "    if best == '':\n",
        "        return\n",
        "    node.criteria = best\n",
        "    #print(list(node.df.columns))\n",
        "    x.remove(best)\n",
        "    node.left = Node(node.df[node.df[best] == 0])\n",
        "    node.right = Node(node.df[node.df[best] == 1])\n",
        "\n",
        "    decision_tree(node.left, x, threshold)\n",
        "    decision_tree(node.right, x, threshold)\n",
        "def tree_traversal_bfs(quelist):\n",
        "    for q in quelist:\n",
        "        while q:\n",
        "            line = []\n",
        "            for i in range(len(q)):\n",
        "                tmp = q.popleft()\n",
        "                line.append(tmp.criteria)\n",
        "                print(tmp.df.shape[0], end=' ')\n",
        "                #print(tmp.left)\n",
        "                if tmp.left:\n",
        "                    q.append(tmp.left)\n",
        "                if tmp.right:\n",
        "                    q.append(tmp.right)\n",
        "            print(line)\n",
        "        print()\n",
        "\n",
        "def random_forest(df, n):\n",
        "    #print(df.columns)\n",
        "    y = df['Survived']\n",
        "    X = df.drop(columns = ['Survived'])\n",
        "    nodes = []\n",
        "    for i in range(n):\n",
        "        X_train, X_test, y_train, y_test = train_test_split(X, y, test_size=0.2, random_state=i)\n",
        "        node = Node(pd.concat([X_train, y_train], axis=1))\n",
        "        nodes.append(node)\n",
        "        decision_tree(node, list(X_train.columns), X_train.shape[0] * 0.05)\n",
        "    return nodes\n",
        "def random_forest_dropfeature(df, n):\n",
        "    #print(df.columns)\n",
        "    y = df['Survived']\n",
        "    X = df.drop(columns = ['Survived'])\n",
        "    tmpcol = X.columns\n",
        "    nodes = []\n",
        "    for i in range(n):\n",
        "        X = df.drop([tmpcol[i], 'Survived'], axis = 1)\n",
        "        #print(X.columns)\n",
        "        node = Node(pd.concat([X, y], axis=1))\n",
        "        nodes.append(node)\n",
        "        decision_tree(node, list(X.columns), X.shape[0] * 0.05)\n",
        "    return nodes\n",
        "def predict(start,x):\n",
        "    ans = []\n",
        "    for s in start:\n",
        "        cur = s\n",
        "        while cur.criteria != None:\n",
        "            if x[cur.criteria] == 0:\n",
        "                cur = cur.left\n",
        "            else:\n",
        "                cur = cur.right\n",
        "        ans.append(cur.df.mode()['Survived'].values[0])\n",
        "    #print(ans)\n",
        "    return pd.Series(ans).mode().values[0]\n",
        "\n",
        "def cross_valid(df,k):\n",
        "    bound = np.linspace(0, df.shape[0], k+1, dtype=int)\n",
        "    average = 0\n",
        "    for i in range(len(bound)-1):\n",
        "        test = df.iloc[bound[i]:bound[i+1]]\n",
        "        train = df.drop(index = [i for i in range(bound[i], bound[i+1])])\n",
        "        #print(test.shape[0], train.shape[0])\n",
        "        node = Node(train)\n",
        "        decision_tree(node, list(train.columns), train.shape[0] * 0.05)\n",
        "        predictions = []\n",
        "        for i in range(test.shape[0]):\n",
        "            predictions.append(predict([node],test.iloc[i]))\n",
        "        average += accuracy_score(test['Survived'], predictions)\n",
        "    print(average / k)\n",
        "\n",
        "def cross_valid_forest(df,k):\n",
        "    bound = np.linspace(0, df.shape[0], k+1, dtype=int)\n",
        "    average = 0\n",
        "    for i in range(len(bound)-1):\n",
        "        test = df.iloc[bound[i]:bound[i+1]]\n",
        "        train = df.drop(index = [i for i in range(bound[i], bound[i+1])])\n",
        "        #print(test.shape[0], train.shape[0])\n",
        "        nodes = random_forest(train, 5)\n",
        "        predictions = []\n",
        "        for i in range(test.shape[0]):\n",
        "            predictions.append(predict(nodes,test.iloc[i]))\n",
        "        #print(predictions)\n",
        "        average += accuracy_score(test['Survived'], predictions)\n",
        "    print(average / k)\n",
        "\n",
        "def cross_valid_forest_dropfeature(df,k):\n",
        "    bound = np.linspace(0, df.shape[0], k+1, dtype=int)\n",
        "    average = 0\n",
        "    for i in range(len(bound)-1):\n",
        "        test = df.iloc[bound[i]:bound[i+1]]\n",
        "        train = df.drop(index = [i for i in range(bound[i], bound[i+1])])\n",
        "        #print(test.shape[0], train.shape[0])\n",
        "        nodes = random_forest_dropfeature(train, 5)\n",
        "        predictions = []\n",
        "        for i in range(test.shape[0]):\n",
        "            predictions.append(predict(nodes,test.iloc[i]))\n",
        "        #print(predictions)\n",
        "        average += accuracy_score(test['Survived'], predictions)\n",
        "    print(average / k)\n",
        "# # read csv file\n",
        "# df = pd.read_csv('titanic_data.csv', header=0)\n",
        "\n",
        "# continuous = ['Age','Fare']\n",
        "# categorical = df.drop(columns=['Age','Fare']).columns\n",
        "\n",
        "# for col in continuous:\n",
        "#     df[col] = (df[col] > df[col].mean()).astype('int')\n",
        "\n",
        "# df['Pclass'] = (df['Pclass'] > 1).astype('int')\n",
        "# df['Siblings/Spouses Aboard'] = (df['Siblings/Spouses Aboard'] > df['Siblings/Spouses Aboard'].median()).astype('int')\n",
        "# df['Parents/Children Aboard'] = (df['Parents/Children Aboard'] > df['Parents/Children Aboard'].median()).astype('int')\n",
        "\n",
        "# #print(best_col(df, df.columns, 'Survived'))\n",
        "# print(mutual_info(df, 'Sex', 'Survived'))\n",
        "# node = Node(df)\n",
        "# decision_tree(node, list(df.columns), df.shape[0] * 0.05)\n",
        "# tree_traversal_bfs([deque([node])])\n",
        "\n",
        "# #print(df.iloc[0]['Sex'])\n",
        "# #print(predict(node,df.iloc[0]))\n",
        "\n",
        "# cross_valid(df,10)\n",
        "# print(df.columns)\n",
        "# #print(dict(zip(list(df.columns)[1:],[1,0,0,1,0,1])))\n",
        "# x = pd.Series(dict(zip(list(df.columns)[1:],[1,0,0,1,0,1])))\n",
        "# print(x)\n",
        "# print(predict([node],x))\n",
        "\n",
        "\n",
        "# #forest = random_forest(df, 5)\n",
        "# #quelist = [deque([nodes]) for nodes in forest]\n",
        "# #tree_traversal_bfs(quelist)\n",
        "\n",
        "# #cross_valid_forest(df,10)\n",
        "\n",
        "# forest = random_forest_dropfeature(df, 6)\n",
        "# quelist = [deque([nodes]) for nodes in forest]\n",
        "# tree_traversal_bfs(quelist)\n",
        "\n",
        "# cross_valid_forest_dropfeature(df, 10)\n"
      ],
      "metadata": {
        "id": "PB5mm5daIozD"
      },
      "execution_count": 32,
      "outputs": []
    },
    {
      "cell_type": "markdown",
      "source": [
        "# 4.1 - Data Preprocessing"
      ],
      "metadata": {
        "id": "mLn-XJ9nWImN"
      }
    },
    {
      "cell_type": "code",
      "source": [
        "df = pd.read_csv('titanic_data.csv', header=0)\n",
        "\n",
        "continuous = ['Age','Fare']\n",
        "categorical = df.drop(columns=['Age','Fare']).columns\n",
        "\n",
        "for col in continuous:\n",
        "    df[col] = (df[col] > df[col].mean()).astype('int')\n",
        "\n",
        "df['Pclass'] = (df['Pclass'] > 1).astype('int')\n",
        "df['Siblings/Spouses Aboard'] = (df['Siblings/Spouses Aboard'] > df['Siblings/Spouses Aboard'].median()).astype('int')\n",
        "df['Parents/Children Aboard'] = (df['Parents/Children Aboard'] > df['Parents/Children Aboard'].median()).astype('int')"
      ],
      "metadata": {
        "id": "QAynw-6ngYW0"
      },
      "execution_count": 33,
      "outputs": []
    },
    {
      "cell_type": "markdown",
      "source": [
        "# 4.2 - Mutual Information"
      ],
      "metadata": {
        "id": "aYyNjv_KWkat"
      }
    },
    {
      "cell_type": "code",
      "source": [
        "def mutual_info(df,col,y):\n",
        "\n",
        "    hx = entropy(df, col)\n",
        "\n",
        "    hxy = 0\n",
        "    for i in range(2):\n",
        "        for j in range(2):\n",
        "            #print(df['Sex'] == i & df['Survived'] == j)\n",
        "            p = df[(df[col] == i) & (df[y] == j)].shape[0] / df.shape[0]\n",
        "            if p == 0:\n",
        "                continue\n",
        "            log = np.log2(df[df[y] == j].shape[0]/df.shape[0]/p)\n",
        "            #print(p, log)\n",
        "            hxy += p * log\n",
        "    return hx - hxy\n",
        "print(mutual_info(df, 'Sex', 'Survived'))"
      ],
      "metadata": {
        "colab": {
          "base_uri": "https://localhost:8080/"
        },
        "id": "Ol8Oy_aoWvnQ",
        "outputId": "cfcacd44-61cd-4383-daa1-95b9e655c890"
      },
      "execution_count": 34,
      "outputs": [
        {
          "output_type": "stream",
          "name": "stdout",
          "text": [
            "0.2168495048312652\n"
          ]
        }
      ]
    },
    {
      "cell_type": "markdown",
      "source": [
        "# 4.3 - Building Decison Tree (from scratch)"
      ],
      "metadata": {
        "id": "eFULvlhjW1o3"
      }
    },
    {
      "cell_type": "code",
      "source": [
        "def decision_tree(node, x, threshold):\n",
        "    if x == ['Survived'] or node.df.shape[0] < threshold:\n",
        "        return\n",
        "    biggest, best = best_col(node.df, x, 'Survived')\n",
        "    if best == '':\n",
        "        return\n",
        "    node.criteria = best\n",
        "    #print(list(node.df.columns))\n",
        "    x.remove(best)\n",
        "    node.left = Node(node.df[node.df[best] == 0])\n",
        "    node.right = Node(node.df[node.df[best] == 1])\n",
        "\n",
        "    decision_tree(node.left, x, threshold)\n",
        "    decision_tree(node.right, x, threshold)\n",
        "node = Node(df)\n",
        "decision_tree(node, list(df.columns), df.shape[0] * 0.05)\n"
      ],
      "metadata": {
        "id": "0M26JFHYXD48"
      },
      "execution_count": 35,
      "outputs": []
    },
    {
      "cell_type": "markdown",
      "source": [
        "# 4.4 - Tree Traversal"
      ],
      "metadata": {
        "id": "jd4hUnbyYIF8"
      }
    },
    {
      "cell_type": "code",
      "source": [
        "def tree_traversal_bfs(quelist):\n",
        "  for q in quelist:\n",
        "      while q:\n",
        "          line = []\n",
        "          for i in range(len(q)):\n",
        "              tmp = q.popleft()\n",
        "              line.append(tmp.criteria)\n",
        "              print(tmp.df.shape[0], end=' ')\n",
        "              #print(tmp.left)\n",
        "              if tmp.left:\n",
        "                  q.append(tmp.left)\n",
        "              if tmp.right:\n",
        "                  q.append(tmp.right)\n",
        "          print(line)\n",
        "tree_traversal_bfs([deque([node])])"
      ],
      "metadata": {
        "colab": {
          "base_uri": "https://localhost:8080/"
        },
        "id": "Guu4oycTYQd_",
        "outputId": "e8110de2-f236-4fa6-857e-cff51fe77663"
      },
      "execution_count": 36,
      "outputs": [
        {
          "output_type": "stream",
          "name": "stdout",
          "text": [
            "887 ['Sex']\n",
            "573 314 ['Pclass', None]\n",
            "122 451 ['Age', 'Parents/Children Aboard']\n",
            "27 95 381 70 [None, 'Siblings/Spouses Aboard', None, None]\n",
            "71 24 ['Fare', None]\n",
            "43 28 [None, None]\n"
          ]
        }
      ]
    },
    {
      "cell_type": "markdown",
      "source": [
        "# 4.5 - 10 fold Cross Validation"
      ],
      "metadata": {
        "id": "L7U7B8wrYMoL"
      }
    },
    {
      "cell_type": "code",
      "source": [
        "def cross_valid(df,k):\n",
        "    bound = np.linspace(0, df.shape[0], k+1, dtype=int)\n",
        "    average = 0\n",
        "    for i in range(len(bound)-1):\n",
        "        test = df.iloc[bound[i]:bound[i+1]]\n",
        "        train = df.drop(index = [i for i in range(bound[i], bound[i+1])])\n",
        "        #print(test.shape[0], train.shape[0])\n",
        "        node = Node(train)\n",
        "        decision_tree(node, list(train.columns), train.shape[0] * 0.05)\n",
        "        predictions = []\n",
        "        for i in range(test.shape[0]):\n",
        "            predictions.append(predict([node],test.iloc[i]))\n",
        "        average += accuracy_score(test['Survived'], predictions)\n",
        "    print(average / k)\n",
        "cross_valid(df,10)"
      ],
      "metadata": {
        "colab": {
          "base_uri": "https://localhost:8080/"
        },
        "id": "CwnGzxVvYxrb",
        "outputId": "0444020a-3a76-43e6-f332-30dcd9b14dee"
      },
      "execution_count": 37,
      "outputs": [
        {
          "output_type": "stream",
          "name": "stdout",
          "text": [
            "0.7790474974463739\n"
          ]
        }
      ]
    },
    {
      "cell_type": "markdown",
      "source": [
        "# 4.6 - Will I Survive?"
      ],
      "metadata": {
        "id": "980yzI5XZMoX"
      }
    },
    {
      "cell_type": "code",
      "source": [
        "def predict(start,x):\n",
        "    ans = []\n",
        "    for s in start:\n",
        "        cur = s\n",
        "        while cur.criteria != None:\n",
        "            if x[cur.criteria] == 0:\n",
        "                cur = cur.left\n",
        "            else:\n",
        "                cur = cur.right\n",
        "        ans.append(cur.df.mode()['Survived'].values[0])\n",
        "    #print(ans)\n",
        "    return pd.Series(ans).mode().values[0]\n",
        "x = pd.Series(dict(zip(list(df.columns)[1:],[1,0,0,1,0,1])))\n",
        "print(x)\n",
        "print(predict([node],x))"
      ],
      "metadata": {
        "colab": {
          "base_uri": "https://localhost:8080/"
        },
        "id": "UIb1xCjbZT4W",
        "outputId": "4d0f8508-0905-48a9-a024-fe2c7613178a"
      },
      "execution_count": 38,
      "outputs": [
        {
          "output_type": "stream",
          "name": "stdout",
          "text": [
            "Pclass                     1\n",
            "Sex                        0\n",
            "Age                        0\n",
            "Siblings/Spouses Aboard    1\n",
            "Parents/Children Aboard    0\n",
            "Fare                       1\n",
            "dtype: int64\n",
            "0\n"
          ]
        }
      ]
    },
    {
      "cell_type": "markdown",
      "source": [
        "# 4.7 - Random Forest (5 trees)"
      ],
      "metadata": {
        "id": "NaH6uD-0ZcY5"
      }
    },
    {
      "cell_type": "markdown",
      "source": [
        "## a - Forest Display"
      ],
      "metadata": {
        "id": "mHSin-x9cAcu"
      }
    },
    {
      "cell_type": "code",
      "source": [
        "def random_forest(df, n):\n",
        "    #print(df.columns)\n",
        "    y = df['Survived']\n",
        "    X = df.drop(columns = ['Survived'])\n",
        "    nodes = []\n",
        "    for i in range(n):\n",
        "        X_train, X_test, y_train, y_test = train_test_split(X, y, test_size=0.2, random_state=i)\n",
        "        node = Node(pd.concat([X_train, y_train], axis=1))\n",
        "        nodes.append(node)\n",
        "        decision_tree(node, list(X_train.columns), X_train.shape[0] * 0.05)\n",
        "    return nodes\n",
        "forest = random_forest(df, 5)\n",
        "quelist = [deque([nodes]) for nodes in forest]\n",
        "tree_traversal_bfs(quelist)"
      ],
      "metadata": {
        "colab": {
          "base_uri": "https://localhost:8080/"
        },
        "id": "L4nJoQHEZnuM",
        "outputId": "b36bbc28-3b9d-4634-ad4d-1f6083340cc7"
      },
      "execution_count": 39,
      "outputs": [
        {
          "output_type": "stream",
          "name": "stdout",
          "text": [
            "709 ['Sex']\n",
            "456 253 ['Pclass', None]\n",
            "97 359 ['Age', 'Parents/Children Aboard']\n",
            "23 74 310 49 [None, 'Fare', None, None]\n",
            "32 42 [None, 'Siblings/Spouses Aboard']\n",
            "25 17 [None, None]\n",
            "709 ['Sex']\n",
            "465 244 ['Pclass', None]\n",
            "101 364 ['Age', None]\n",
            "19 82 [None, 'Siblings/Spouses Aboard']\n",
            "61 21 ['Fare', None]\n",
            "38 23 ['Parents/Children Aboard', None]\n",
            "37 1 [None, None]\n",
            "709 ['Sex']\n",
            "463 246 ['Pclass', None]\n",
            "99 364 ['Age', None]\n",
            "17 82 [None, 'Siblings/Spouses Aboard']\n",
            "58 24 ['Fare', None]\n",
            "38 20 ['Parents/Children Aboard', None]\n",
            "37 1 [None, None]\n",
            "709 ['Sex']\n",
            "458 251 ['Pclass', None]\n",
            "97 361 ['Age', 'Parents/Children Aboard']\n",
            "23 74 307 54 [None, 'Fare', None, None]\n",
            "33 41 [None, 'Siblings/Spouses Aboard']\n",
            "22 19 [None, None]\n",
            "709 ['Sex']\n",
            "460 249 ['Pclass', None]\n",
            "100 360 ['Siblings/Spouses Aboard', None]\n",
            "72 28 ['Fare', None]\n",
            "39 33 ['Parents/Children Aboard', None]\n",
            "38 1 ['Age', None]\n",
            "4 34 [None, None]\n"
          ]
        }
      ]
    },
    {
      "cell_type": "markdown",
      "source": [
        "## b - Cross Validation On the Forest"
      ],
      "metadata": {
        "id": "u83uTig1bqHl"
      }
    },
    {
      "cell_type": "code",
      "source": [
        "def cross_valid_forest(df,k):\n",
        "    bound = np.linspace(0, df.shape[0], k+1, dtype=int)\n",
        "    average = 0\n",
        "    for i in range(len(bound)-1):\n",
        "        test = df.iloc[bound[i]:bound[i+1]]\n",
        "        train = df.drop(index = [i for i in range(bound[i], bound[i+1])])\n",
        "        #print(test.shape[0], train.shape[0])\n",
        "        nodes = random_forest(train, 5)\n",
        "        predictions = []\n",
        "        for i in range(test.shape[0]):\n",
        "            predictions.append(predict(nodes,test.iloc[i]))\n",
        "        #print(predictions)\n",
        "        average += accuracy_score(test['Survived'], predictions)\n",
        "    print(average / k)\n",
        "cross_valid_forest(df,10)"
      ],
      "metadata": {
        "id": "uxnh44ghTuCn",
        "colab": {
          "base_uri": "https://localhost:8080/"
        },
        "outputId": "11089026-e622-4950-b3cd-f323778e8e54"
      },
      "execution_count": 40,
      "outputs": [
        {
          "output_type": "stream",
          "name": "stdout",
          "text": [
            "0.7801838610827374\n"
          ]
        }
      ]
    },
    {
      "cell_type": "markdown",
      "source": [
        "## c - Will I Survive?"
      ],
      "metadata": {
        "id": "tTG_RXdEccKw"
      }
    },
    {
      "cell_type": "code",
      "execution_count": 41,
      "metadata": {
        "colab": {
          "base_uri": "https://localhost:8080/"
        },
        "id": "DTV1NT25Hamo",
        "outputId": "9f2c9b34-f16c-4877-950d-fcbe26783b31"
      },
      "outputs": [
        {
          "output_type": "stream",
          "name": "stdout",
          "text": [
            "0\n"
          ]
        }
      ],
      "source": [
        "print(predict(forest,x))"
      ]
    },
    {
      "cell_type": "markdown",
      "source": [
        "# 4.8 Random Forest (6 trees)"
      ],
      "metadata": {
        "id": "i65fQ1KwdEPh"
      }
    },
    {
      "cell_type": "markdown",
      "source": [
        "## a - Forest Display"
      ],
      "metadata": {
        "id": "BO2Il-NEdO9q"
      }
    },
    {
      "cell_type": "code",
      "source": [
        "forest = random_forest_dropfeature(df, 6)\n",
        "quelist = [deque([nodes]) for nodes in forest]\n",
        "tree_traversal_bfs(quelist)"
      ],
      "metadata": {
        "colab": {
          "base_uri": "https://localhost:8080/"
        },
        "id": "Yd5wBMqjIH5z",
        "outputId": "06bcbcc8-e2ac-4994-e604-02db12fc1707"
      },
      "execution_count": 42,
      "outputs": [
        {
          "output_type": "stream",
          "name": "stdout",
          "text": [
            "887 ['Sex']\n",
            "573 314 ['Fare', None]\n",
            "466 107 ['Parents/Children Aboard', None]\n",
            "417 49 ['Siblings/Spouses Aboard', None]\n",
            "371 46 ['Age', None]\n",
            "199 172 [None, None]\n",
            "887 ['Pclass']\n",
            "216 671 ['Fare', None]\n",
            "57 159 ['Age', 'Siblings/Spouses Aboard']\n",
            "8 49 80 79 [None, 'Parents/Children Aboard', None, None]\n",
            "48 1 [None, None]\n",
            "887 ['Sex']\n",
            "573 314 ['Pclass', None]\n",
            "122 451 ['Siblings/Spouses Aboard', None]\n",
            "88 34 ['Fare', None]\n",
            "49 39 ['Parents/Children Aboard', None]\n",
            "48 1 [None, None]\n",
            "887 ['Sex']\n",
            "573 314 ['Pclass', None]\n",
            "122 451 ['Age', None]\n",
            "27 95 [None, 'Fare']\n",
            "43 52 [None, 'Parents/Children Aboard']\n",
            "39 13 [None, None]\n",
            "887 ['Sex']\n",
            "573 314 ['Pclass', None]\n",
            "122 451 ['Age', None]\n",
            "27 95 [None, 'Siblings/Spouses Aboard']\n",
            "71 24 ['Fare', None]\n",
            "43 28 [None, None]\n",
            "887 ['Sex']\n",
            "573 314 ['Pclass', None]\n",
            "122 451 ['Age', None]\n",
            "27 95 [None, 'Siblings/Spouses Aboard']\n",
            "71 24 ['Parents/Children Aboard', None]\n",
            "64 7 [None, None]\n"
          ]
        }
      ]
    },
    {
      "cell_type": "markdown",
      "source": [
        "## b - Cross Validation on the Forest"
      ],
      "metadata": {
        "id": "y5AHyzMadTB5"
      }
    },
    {
      "cell_type": "code",
      "source": [
        "cross_valid_forest_dropfeature(df, 10)"
      ],
      "metadata": {
        "colab": {
          "base_uri": "https://localhost:8080/"
        },
        "id": "IVTQ7pOvcc0x",
        "outputId": "fddb9b2e-eb4d-4ff0-aa16-1ff39d5b7270"
      },
      "execution_count": 43,
      "outputs": [
        {
          "output_type": "stream",
          "name": "stdout",
          "text": [
            "0.7790474974463739\n"
          ]
        }
      ]
    },
    {
      "cell_type": "markdown",
      "source": [
        "## c - Will I Survive?"
      ],
      "metadata": {
        "id": "9AyZ6C5KdcVm"
      }
    },
    {
      "cell_type": "code",
      "source": [
        "print(predict(forest,x))"
      ],
      "metadata": {
        "colab": {
          "base_uri": "https://localhost:8080/"
        },
        "id": "AVGKfKK0k4hB",
        "outputId": "aa3ee826-876a-4d19-d8b1-a9f1dad2dc08"
      },
      "execution_count": 44,
      "outputs": [
        {
          "output_type": "stream",
          "name": "stdout",
          "text": [
            "0\n"
          ]
        }
      ]
    }
  ]
}